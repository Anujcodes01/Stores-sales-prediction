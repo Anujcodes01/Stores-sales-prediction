{
 "cells": [
  {
   "cell_type": "code",
   "execution_count": 1,
   "metadata": {},
   "outputs": [],
   "source": [
    "import os\n"
   ]
  },
  {
   "cell_type": "code",
   "execution_count": 2,
   "metadata": {},
   "outputs": [
    {
     "data": {
      "text/plain": [
       "'c:\\\\Users\\\\ASUS\\\\Desktop\\\\sales_prediction\\\\notebooks'"
      ]
     },
     "execution_count": 2,
     "metadata": {},
     "output_type": "execute_result"
    }
   ],
   "source": [
    "%pwd"
   ]
  },
  {
   "cell_type": "code",
   "execution_count": 3,
   "metadata": {},
   "outputs": [],
   "source": [
    "os.chdir('../')"
   ]
  },
  {
   "cell_type": "code",
   "execution_count": 4,
   "metadata": {},
   "outputs": [
    {
     "data": {
      "text/plain": [
       "'c:\\\\Users\\\\ASUS\\\\Desktop\\\\sales_prediction'"
      ]
     },
     "execution_count": 4,
     "metadata": {},
     "output_type": "execute_result"
    }
   ],
   "source": [
    "%pwd"
   ]
  },
  {
   "cell_type": "code",
   "execution_count": 17,
   "metadata": {},
   "outputs": [],
   "source": [
    "from dataclasses import dataclass\n",
    "from pathlib import Path\n",
    "\n",
    "@dataclass(frozen =True)\n",
    "\n",
    "class DataIngestionConfig:\n",
    "    root_dir:Path\n",
    "    source_URL_train:str\n",
    "    source_URL_test :str\n",
    "    train_file:Path\n",
    "    test_file:Path   "
   ]
  },
  {
   "cell_type": "code",
   "execution_count": 18,
   "metadata": {},
   "outputs": [],
   "source": [
    "from src.sales.constants  import *\n",
    "from src.sales.utils.common import read_yaml , create_directories"
   ]
  },
  {
   "cell_type": "code",
   "execution_count": 19,
   "metadata": {},
   "outputs": [],
   "source": [
    "class ConfigurationManager:\n",
    "    def __init__(\n",
    "        self,\n",
    "        config_filepath = CONFIG_FILE_PATH,\n",
    "        params_filepath = PARAMS_FILE_PATH,\n",
    "        schema_filepath = SCHEMA_FILE_PATH):\n",
    "\n",
    "        self.config = read_yaml(config_filepath)\n",
    "        self.params = read_yaml(params_filepath)\n",
    "        self.schema = read_yaml(schema_filepath)\n",
    "\n",
    "        create_directories([self.config.artifacts_root])\n",
    "\n",
    "        \n",
    "        \n",
    "    def get_data_ingestion_config(self)->DataIngestionConfig:\n",
    "        config = self.config.data_ingestion\n",
    "        create_directories([config.root_dir])\n",
    "                           \n",
    "        data_ingestion_config = DataIngestionConfig(\n",
    "            root_dir = config.root_dir,\n",
    "            source_URL_train =config.source_URL_train,\n",
    "            source_URL_test= config.source_URL_test,\n",
    "            train_file=config.train_file,\n",
    "            test_file= config.test_file,\n",
    "        )\n",
    "        return data_ingestion_config"
   ]
  },
  {
   "cell_type": "code",
   "execution_count": 20,
   "metadata": {},
   "outputs": [],
   "source": [
    "import os \n",
    "import urllib.request as requests\n",
    "from sales import logger\n",
    "from sales.utils.common import get_size"
   ]
  },
  {
   "cell_type": "code",
   "execution_count": 25,
   "metadata": {},
   "outputs": [],
   "source": [
    "class DataIngestion:\n",
    "    def __init__(self,config:DataIngestionConfig):\n",
    "        self.config = config\n",
    "        \n",
    "    def download_file_train(self):\n",
    "        if not os.path.exists(self.config.train_file):\n",
    "            filename, headers = requests.urlretrieve(\n",
    "                url = self.config.source_URL_train,\n",
    "                filename = self.config.train_file\n",
    "            )\n",
    "            logger.info(f\"{filename} download! with following info: \\n{headers}\")\n",
    "        else:\n",
    "            logger.info(f\"File already exists of size: {get_size(Path(self.config.train_file))}\")\n",
    "            \n",
    "    def download_file_test(self):\n",
    "        if not os.path.exists(self.config.test_file):\n",
    "            filename, headers = requests.urlretrieve(\n",
    "                url = self.config.source_URL_test,\n",
    "                filename = self.config.test_file\n",
    "            )\n",
    "            logger.info(f\"{filename} download! with following info: \\n{headers}\")\n",
    "        else:\n",
    "            logger.info(f\"File already exists of size: {get_size(Path(self.config.test_file))}\")\n",
    "   "
   ]
  },
  {
   "cell_type": "code",
   "execution_count": 26,
   "metadata": {},
   "outputs": [
    {
     "name": "stdout",
     "output_type": "stream",
     "text": [
      "[2023-08-22 15:54:13,196: INFO: common: yaml file: config\\config.yaml loaded successfully]\n",
      "[2023-08-22 15:54:13,198: INFO: common: yaml file: params.yaml loaded successfully]\n",
      "[2023-08-22 15:54:13,200: INFO: common: yaml file: schema.yaml loaded successfully]\n",
      "[2023-08-22 15:54:13,201: INFO: common: created directory at: artifacts]\n",
      "[2023-08-22 15:54:13,203: INFO: common: created directory at: artifacts/data_ingestion]\n",
      "[2023-08-22 15:54:13,204: INFO: 2937514802: File already exists of size: ~ 515 KB]\n",
      "[2023-08-22 15:54:18,445: INFO: 2937514802: artifacts/data_ingestion/train(1).csv download! with following info: \n",
      "Connection: close\n",
      "Content-Length: 869537\n",
      "Cache-Control: max-age=300\n",
      "Content-Security-Policy: default-src 'none'; style-src 'unsafe-inline'; sandbox\n",
      "Content-Type: text/plain; charset=utf-8\n",
      "ETag: \"da9e0d966068f457c62bea5fa9f5adb53a44a77a037652c310f3ad6b9a3faaef\"\n",
      "Strict-Transport-Security: max-age=31536000\n",
      "X-Content-Type-Options: nosniff\n",
      "X-Frame-Options: deny\n",
      "X-XSS-Protection: 1; mode=block\n",
      "X-GitHub-Request-Id: BFF2:1F8055:1C56A2:28EC45:64E48CCC\n",
      "Accept-Ranges: bytes\n",
      "Date: Tue, 22 Aug 2023 10:24:14 GMT\n",
      "Via: 1.1 varnish\n",
      "X-Served-By: cache-del21727-DEL\n",
      "X-Cache: MISS\n",
      "X-Cache-Hits: 0\n",
      "X-Timer: S1692699854.487729,VS0,VE375\n",
      "Vary: Authorization,Accept-Encoding,Origin\n",
      "Access-Control-Allow-Origin: *\n",
      "Cross-Origin-Resource-Policy: cross-origin\n",
      "X-Fastly-Request-ID: 9600732657ecb5b3261ed8960fac247d0ea6cecc\n",
      "Expires: Tue, 22 Aug 2023 10:29:14 GMT\n",
      "Source-Age: 0\n",
      "\n",
      "]\n"
     ]
    }
   ],
   "source": [
    "try:\n",
    "    \n",
    "    config = ConfigurationManager()\n",
    "    data_ingestion_config = config.get_data_ingestion_config()\n",
    "    data_ingestion = DataIngestion(config=data_ingestion_config)\n",
    "    data_ingestion.download_file_test()\n",
    "    data_ingestion.download_file_train()\n",
    "except Exception as e:\n",
    "    raise e \n",
    "    "
   ]
  },
  {
   "cell_type": "code",
   "execution_count": null,
   "metadata": {},
   "outputs": [],
   "source": []
  }
 ],
 "metadata": {
  "kernelspec": {
   "display_name": ".venv",
   "language": "python",
   "name": "python3"
  },
  "language_info": {
   "codemirror_mode": {
    "name": "ipython",
    "version": 3
   },
   "file_extension": ".py",
   "mimetype": "text/x-python",
   "name": "python",
   "nbconvert_exporter": "python",
   "pygments_lexer": "ipython3",
   "version": "3.9.0"
  },
  "orig_nbformat": 4
 },
 "nbformat": 4,
 "nbformat_minor": 2
}
